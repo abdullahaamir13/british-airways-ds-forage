{
 "cells": [
  {
   "cell_type": "markdown",
   "id": "ea0de5ff",
   "metadata": {},
   "source": [
    "## Lookup Table for British Airways"
   ]
  },
  {
   "cell_type": "code",
   "execution_count": 14,
   "id": "a73035c5",
   "metadata": {},
   "outputs": [
    {
     "name": "stdout",
     "output_type": "stream",
     "text": [
      "  ARRIVAL_REGION   HAUL TIME_OF_DAY  Tier 1 % (Concorde)  \\\n",
      "0         Europe  SHORT   Lunchtime                  0.4   \n",
      "1         Europe  SHORT     Evening                  0.3   \n",
      "2         Europe  SHORT     Morning                  0.3   \n",
      "3         Europe  SHORT   Afternoon                  0.3   \n",
      "4           Asia   LONG   Afternoon                  0.2   \n",
      "\n",
      "   Tier 2 % (First Lounge)  Tier 3 % (Club Lounge)  Total Lounge Eligible %  \n",
      "0                      4.5                    17.3                     22.2  \n",
      "1                      4.5                    17.0                     21.8  \n",
      "2                      4.4                    16.7                     21.4  \n",
      "3                      4.3                    16.6                     21.2  \n",
      "4                      2.9                    10.8                     13.9  \n"
     ]
    }
   ],
   "source": [
    "import pandas as pd\n",
    "\n",
    "# Step 1: Load Excel file\n",
    "file_path = \"British Airways Summer Schedule Dataset - Forage Data Science Task 1.xlsx\"\n",
    "df = pd.read_excel(file_path, sheet_name=\"british_airways_schedule_summer\")\n",
    "\n",
    "# Step 2: Clean column names\n",
    "df.columns = df.columns.str.strip().str.upper()\n",
    "\n",
    "# Step 3: Check if required columns are present\n",
    "required_columns = [\n",
    "    \"ARRIVAL_REGION\", \"HAUL\", \"TIME_OF_DAY\",\n",
    "    \"FIRST_CLASS_SEATS\", \"BUSINESS_CLASS_SEATS\", \"ECONOMY_SEATS\",\n",
    "    \"TIER1_ELIGIBLE_PAX\", \"TIER2_ELIGIBLE_PAX\", \"TIER3_ELIGIBLE_PAX\"\n",
    "]\n",
    "\n",
    "if not all(col in df.columns for col in required_columns):\n",
    "    raise ValueError(\"Required columns are missing in the dataset.\")\n",
    "\n",
    "# Step 4: Calculate actual total passengers per flight\n",
    "df[\"TOTAL_PAX\"] = (\n",
    "    df[\"FIRST_CLASS_SEATS\"] +\n",
    "    df[\"BUSINESS_CLASS_SEATS\"] +\n",
    "    df[\"ECONOMY_SEATS\"]\n",
    ")\n",
    "\n",
    "# Step 5: Group by REGION + HAUL + TIME\n",
    "grouped = df.groupby([\"ARRIVAL_REGION\", \"HAUL\", \"TIME_OF_DAY\"]).agg({\n",
    "    \"TIER1_ELIGIBLE_PAX\": \"mean\",\n",
    "    \"TIER2_ELIGIBLE_PAX\": \"mean\",\n",
    "    \"TIER3_ELIGIBLE_PAX\": \"mean\",\n",
    "    \"TOTAL_PAX\": \"mean\"\n",
    "}).reset_index()\n",
    "\n",
    "# Step 6: Calculate % of total passengers eligible per lounge tier\n",
    "grouped[\"Tier 1 % (Concorde)\"] = (grouped[\"TIER1_ELIGIBLE_PAX\"] / grouped[\"TOTAL_PAX\"] * 100).round(1)\n",
    "grouped[\"Tier 2 % (First Lounge)\"] = (grouped[\"TIER2_ELIGIBLE_PAX\"] / grouped[\"TOTAL_PAX\"] * 100).round(1)\n",
    "grouped[\"Tier 3 % (Club Lounge)\"] = (grouped[\"TIER3_ELIGIBLE_PAX\"] / grouped[\"TOTAL_PAX\"] * 100).round(1)\n",
    "\n",
    "# Step 7: Total Lounge Eligible %\n",
    "grouped[\"Total Lounge Eligible %\"] = (\n",
    "    grouped[\"Tier 1 % (Concorde)\"] +\n",
    "    grouped[\"Tier 2 % (First Lounge)\"] +\n",
    "    grouped[\"Tier 3 % (Club Lounge)\"]\n",
    ").round(1)\n",
    "\n",
    "# Step 8: Select final output columns\n",
    "lookup_table = grouped[[\n",
    "    \"ARRIVAL_REGION\", \"HAUL\", \"TIME_OF_DAY\",\n",
    "    \"Tier 1 % (Concorde)\", \"Tier 2 % (First Lounge)\", \"Tier 3 % (Club Lounge)\", \"Total Lounge Eligible %\"\n",
    "]].sort_values(by=\"Total Lounge Eligible %\", ascending=False).reset_index(drop=True)\n",
    "\n",
    "# Step 9: Save to Excel\n",
    "lookup_table.to_excel(\"BA_Lounge_Eligibility_Lookup.xlsx\", index=False)\n",
    "\n",
    "# Step 10: Show result\n",
    "print(lookup_table.head())"
   ]
  }
 ],
 "metadata": {
  "kernelspec": {
   "display_name": "Python 3",
   "language": "python",
   "name": "python3"
  },
  "language_info": {
   "codemirror_mode": {
    "name": "ipython",
    "version": 3
   },
   "file_extension": ".py",
   "mimetype": "text/x-python",
   "name": "python",
   "nbconvert_exporter": "python",
   "pygments_lexer": "ipython3",
   "version": "3.12.11"
  }
 },
 "nbformat": 4,
 "nbformat_minor": 5
}
